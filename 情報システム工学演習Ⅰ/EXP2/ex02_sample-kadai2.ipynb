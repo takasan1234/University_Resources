{
  "cells": [
    {
      "attachments": {},
      "cell_type": "markdown",
      "metadata": {
        "id": "nIGK6NCr65C3"
      },
      "source": [
        "# 情報システム工学演習I\n",
        "\n",
        "## 例題 ex02\n",
        "- 例題1. SVDを使って簡単な行列を分解してみる\n",
        "- 例題2. 時系列データ（人工データ）を用いたSVDに基づく特徴抽出\n",
        "- 例題3. 時系列データ（google trends）を用いたSVDに基づく特徴抽出\n"
      ]
    },
    {
      "cell_type": "code",
      "execution_count": null,
      "metadata": {},
      "outputs": [
        {
          "ename": "",
          "evalue": "",
          "output_type": "error",
          "traceback": [
            "\u001b[1;31mRunning cells with '.venv (Python 3.13.3)' requires the ipykernel package.\n",
            "\u001b[1;31mInstall 'ipykernel' into the Python environment. \n",
            "\u001b[1;31mCommand: '\"/Users/takayatsuji/Desktop/University_Resources/情報通信工学専門実験 A/EXP/code/.venv/bin/python\" -m pip install ipykernel -U --force-reinstall'"
          ]
        }
      ],
      "source": [
        "\n"
      ]
    },
    {
      "cell_type": "markdown",
      "metadata": {
        "id": "qfm6LeJ9dcBN"
      },
      "source": [
        "### 例題1. SVDを使って簡単な行列を分解してみる\n"
      ]
    },
    {
      "cell_type": "code",
      "execution_count": null,
      "metadata": {
        "colab": {
          "base_uri": "https://localhost:8080/"
        },
        "id": "RnusNw2vd4qE",
        "outputId": "8200f63b-f4ba-4f62-c4bf-6476bca7c532"
      },
      "outputs": [],
      "source": [
        "# 準備：各種インポート\n",
        "import matplotlib.pyplot as plt\n",
        "import numpy as np\n",
        "from scipy import linalg\n",
        "\n",
        "# 表示する桁数を設定\n",
        "np.set_printoptions(precision=2)\n",
        "np.set_printoptions(suppress = True)\n",
        "\n",
        "# 行列Aの作成\n",
        "A=np.array([\n",
        "    [1,1,1,0,0],\n",
        "    [2,2,2,0,0],\n",
        "    [1,1,1,0,0],\n",
        "    [5,5,5,0,0],\n",
        "    [0,0,0,2,2],\n",
        "    [0,0,0,3,3],\n",
        "    [0,0,0,1,1]\n",
        "    ]) \n",
        "\n",
        "# 特異値分解\n",
        "(U, s, Vh) = linalg.svd(A) # decompose\n",
        "k = 2 # k: 上位 k = 2 個の成分のみ使用\n",
        "U = U[:,0:k]; s = s[0:k]; Vh = Vh[0:k,:]\n",
        "print(f'====== A matrix - size:{A.shape} =====')\n",
        "print(A)\n",
        "print(f'====== U matrix - size:{U.shape} ======')\n",
        "print(U)\n",
        "print(f'====== s matrix - size:{np.diag(s).shape} ======')\n",
        "print(np.diag(s))\n",
        "print(f'====== Vh matrix - size:{Vh.shape} ======')\n",
        "print(Vh)\n",
        "print(f'====== recontruct A (= U x s x Vh) k = {k} ======')\n",
        "print(np.dot(np.dot(U, np.diag(s)),Vh)) # reconstruct\n",
        "\n",
        "# 行列の近似\n",
        "k = 1 # k: 上位 k = 1 個の成分のみ使用\n",
        "U = U[:,0:k]; s = s[0:k]; Vh = Vh[0:k,:]\n",
        "print(f'====== recontruct A (= U x s x Vh) k = {k} ======')\n",
        "print(np.dot(np.dot(U, np.diag(s)),Vh)) # reconstruct"
      ]
    },
    {
      "cell_type": "markdown",
      "metadata": {
        "id": "vTi5pJfr-X6k"
      },
      "source": [
        "### 例題2.人工データ(1次元)を用いたSVDに基づく特徴抽出"
      ]
    },
    {
      "cell_type": "markdown",
      "metadata": {
        "id": "nPrFm8e7DFcE"
      },
      "source": [
        "#### (2-1) データの作成"
      ]
    },
    {
      "cell_type": "code",
      "execution_count": null,
      "metadata": {
        "colab": {
          "base_uri": "https://localhost:8080/",
          "height": 251
        },
        "id": "KMy3jgXR_Ghd",
        "outputId": "19a16089-899b-4b2d-b840-ba638206f4cb"
      },
      "outputs": [],
      "source": [
        "# 時系列データ（人工データ）の作成  x(t) = sin(2pi*t/50)+e, where, e=Gauss(5,0.5)\n",
        "from random import gauss\n",
        "noise  = [gauss(5.0, 0.5) for i in range(1000)]\n",
        "time   = np.arange(0, 1000, 1);\n",
        "X = np.sin(2 * np.pi * time / 50) + noise\n",
        "# 生成した時系列データの可視化\n",
        "plt.figure(figsize=(8,2))\n",
        "plt.plot(X, label='sin(2*pi*t/50)+noise')\n",
        "plt.xlabel('Time'); plt.ylabel('Value')\n",
        "plt.legend()"
      ]
    },
    {
      "cell_type": "markdown",
      "metadata": {
        "id": "-bDk7YnWDZ9a"
      },
      "source": [
        "#### (2-2) SVDを用いた行列分解"
      ]
    },
    {
      "cell_type": "code",
      "execution_count": null,
      "metadata": {
        "id": "C5NGgY5kKS1y"
      },
      "outputs": [],
      "source": [
        "# 部分シーケンス行列 Xw (delay coordinates matrix) を作成する関数\n",
        "# plase also see def 1 & procedure 1\n",
        "def delay_coordinates(X, w):\n",
        "  m  = len(X) # m: sequence length len_X = len(X)\n",
        "  mp = int(np.floor(m / w)) \n",
        "  Xw = np.zeros((mp, w))  # matrix Xw --- size:[mp x w] \n",
        "  for t in range(1, mp+1):  # t = (1, ..., mp)\n",
        "    Xw[t-1,:] = X[(t-1)*w:t*w]  \n",
        "  return Xw\n",
        "\n",
        "def my_svd(Xw, k):\n",
        "  # 特異値分解 - decompose Xw -> (U, s, Vh) \n",
        "  [U, s, Vh] = linalg.svd(Xw, full_matrices=False)\n",
        "  # top-k成分を使った近似 - low-rank approximation\n",
        "  U_k = U[:,0:k]; s_k = s[0:k]; Vh_k = Vh[0:k,:]\n",
        "  return (U_k, s_k, Vh_k)\n"
      ]
    },
    {
      "cell_type": "code",
      "execution_count": null,
      "metadata": {
        "id": "IZ_XvPKwZKKW"
      },
      "outputs": [],
      "source": [
        "# 時系列データ (1次元)とウィンドウサイズwに対し、k個の重要な特徴的パターンを抽出し、可視化する関数\n",
        "def svd_decomp(X, w, k, minus=False):\n",
        "  # (a) 部分シーケンス行列 Xw (delay coordinates matrix) の作成\n",
        "  Xw = delay_coordinates(X, w) # 部分シーケンス行列を作成\n",
        "  print(f'create delay coordinates matrix (w={w}),   X: {X.shape} ->  Xw: {Xw.shape}')\n",
        "  # (b) SVDを用いた行列分解\n",
        "  (U, s, Vh) = my_svd(Xw, k)\n",
        "  print(f'top-k decomposed matrices [U * s * Vh] --- size: U:{U.shape}, s:{s.shape}, Vh:{Vh.shape}')\n",
        "  # (c) 特徴抽出結果の可視化\n",
        "  if(minus): U*=-1; Vh*=-1 # 必要なら成分の符号を反転させる (可視化のため)\n",
        "  # ---------------------------- #\n",
        "  plt.figure(figsize=(6,6))\n",
        "  colors = ['orange', 'green', 'purple', 'skyblue', 'pink']\n",
        "  # ---------------------------- #\n",
        "  plt.subplot(k+1,1,1)\n",
        "  # (c-i) オリジナルデータとシーケンス分割の可視化\n",
        "  plt.plot(X) \n",
        "  for t in range(0,len(Xw)+1):\n",
        "    plt.axvline(x = t*w, color = 'gray', linestyle='dashed')\n",
        "  plt.xlabel(f'Time (window size w={w})')\n",
        "  plt.title(f'Original Sequence X (len={len(X)})')\n",
        "  # ---------------------------- #\n",
        "  # (c-ii) 特徴抽出結果 (projection matrix P = U x s)\n",
        "  for i in range(0,k):\n",
        "    plt.subplot(k+1,1,i+2)\n",
        "    plt.stem(U[:,i]*s[i], 'x--', linefmt=colors[i])\n",
        "    plt.xlabel(f't-th subsequence Xw(t) (t=1,...,{len(Xw)})')\n",
        "    plt.title(f'Projection matrix P[{i}] = U[{i}]*s[{i}]')\n",
        "  plt.tight_layout()\n",
        "  # ---------------------------- #\n",
        "  # (c-iii) 特徴抽出結果 (Local patterns Vh)\n",
        "  plt.figure(figsize=(6,2))\n",
        "  for i in range(0,k):\n",
        "    plt.subplot(1,k,i+1)\n",
        "    plt.plot(Vh[i,:], '+-', color=colors[i])\n",
        "    plt.xlabel(f'Time (window size w={w})')\n",
        "    plt.title(f'Local patterns Vh[{i}]')\n",
        "  plt.tight_layout()\n"
      ]
    },
    {
      "cell_type": "code",
      "execution_count": null,
      "metadata": {
        "colab": {
          "base_uri": "https://localhost:8080/",
          "height": 831
        },
        "id": "ixuxjaX4ODQG",
        "outputId": "768e578b-eacd-4421-a15b-00f0c8bd8bf2"
      },
      "outputs": [],
      "source": [
        "# SVDを用いた特徴抽出\n",
        "w = 50 # ウィンドウ幅 50 - window size w \n",
        "k = 2 # k: 上位 k = 2 個の成分のみ使用\n",
        "svd_decomp(X, w, k, minus=True)"
      ]
    },
    {
      "cell_type": "markdown",
      "metadata": {
        "id": "bf_jHmNEDjfJ"
      },
      "source": [
        "#### (2-3) SVDを用いた近似"
      ]
    },
    {
      "cell_type": "code",
      "execution_count": null,
      "metadata": {
        "id": "TRKsz7VBNKWE"
      },
      "outputs": [],
      "source": [
        "# top-k成分のみを使ったオリジナルデータの近似 - reconstract Xw using top-k components\n",
        "def reconstruct(X, w, k):\n",
        " # (a) 部分シーケンス行列 Xw (delay coordinates matrix) の作成\n",
        "  Xw = delay_coordinates(X, w) # 部分シーケンス行列を作成\n",
        "  print(f'create delay coordinates matrix (w={w}),   X: {X.shape} ->  Xw: {Xw.shape}')\n",
        "  # (b) SVDを用いた行列分解\n",
        "  (U, s, Vh) = my_svd(Xw, k)\n",
        "\n",
        "  # (c) 分解した行列を用いたオリジナルデータの復元と可視化\n",
        "  plt.figure(figsize=(6,6))\n",
        "  plt.subplot(k+1, 1, 1)\n",
        "  plt.plot(X); plt.title(f'Original sequence X') \n",
        "  for i in range(1,k+1):\n",
        "    plt.subplot(k+1,1,1+i)\n",
        "    # i個の成分のみ選択して近似\n",
        "    U_k = U[:,0:i]; s_k = s[0:i]; Vh_k = Vh[0:i,:]\n",
        "    Xw_rec  = np.dot(np.dot(U_k, np.diag(s_k)),Vh_k) # delay coordinates matrix\n",
        "    X_rec   = Xw_rec.flatten() # reconstracted sequence\n",
        "    plt.plot(X_rec, color='gray')\n",
        "    plt.title(f'Reconstruction X_rec  (k={i})') \n",
        "  plt.tight_layout()\n",
        "\n"
      ]
    },
    {
      "cell_type": "code",
      "execution_count": null,
      "metadata": {
        "colab": {
          "base_uri": "https://localhost:8080/",
          "height": 624
        },
        "id": "4TCnoAw6C_C5",
        "outputId": "148c3dbe-d7be-41ee-f3ef-5a42f8b8db19"
      },
      "outputs": [],
      "source": [
        "\n",
        "# SVDの行列分解を用いたオリジナルデータの近似を可視化\n",
        "reconstruct(X,w=50,k=3)"
      ]
    },
    {
      "cell_type": "markdown",
      "metadata": {
        "id": "YYXO49FSVM7j"
      },
      "source": [
        "### 例題3. 実データ ( google trends) を用いた用いたSVDに基づく特徴抽出\n",
        "\n",
        " "
      ]
    },
    {
      "cell_type": "markdown",
      "metadata": {
        "id": "ORSSH6H9AKMt"
      },
      "source": [
        "#### (3-1) データのダウンロード"
      ]
    },
    {
      "cell_type": "code",
      "execution_count": null,
      "metadata": {
        "id": "WgvIh5tOGn_8"
      },
      "outputs": [],
      "source": [
        "import numpy as np\n",
        "import pandas as pd # import pandas"
      ]
    },
    {
      "cell_type": "code",
      "execution_count": null,
      "metadata": {
        "colab": {
          "base_uri": "https://localhost:8080/",
          "height": 234
        },
        "id": "7-I6_g0tglrN",
        "outputId": "b6440aa5-0100-450a-a4e9-6b6430f52c61"
      },
      "outputs": [],
      "source": [
        "# キーワード：「olympic」を解析\n",
        "fn='./data_olympic.csv' # ファイル名を指定\n",
        "fn='https://www.dm.sanken.osaka-u.ac.jp/~yasuko/EX/data_olympic.csv'\n",
        "index_col = 'Month' # インデックスを指定\n",
        "df = pd.read_csv(fn, header=1, index_col=index_col, parse_dates=True)\n",
        "df.plot(figsize=(8,2)) #可視化 (figure)\n",
        "X = df['olympic: (Worldwide)'].to_numpy()"
      ]
    },
    {
      "cell_type": "markdown",
      "metadata": {
        "id": "Ij9SlOrzAQYr"
      },
      "source": [
        "#### (3-2) SVDを用いた行列分解"
      ]
    },
    {
      "cell_type": "code",
      "execution_count": null,
      "metadata": {
        "colab": {
          "base_uri": "https://localhost:8080/",
          "height": 831
        },
        "id": "87VciOAPHF6M",
        "outputId": "50664614-7f64-4b61-a542-44825a134758"
      },
      "outputs": [],
      "source": [
        "w = 12 # ウィンドウ幅 12 months - window size w \n",
        "k = 3  # k: 上位 k = 3 個の成分のみ使用\n",
        "svd_decomp(X, w, k, minus=True)"
      ]
    },
    {
      "cell_type": "markdown",
      "metadata": {
        "id": "QDG63rGKAUOc"
      },
      "source": [
        "#### (3-3) SVDを用いた近似"
      ]
    },
    {
      "cell_type": "code",
      "execution_count": null,
      "metadata": {
        "colab": {
          "base_uri": "https://localhost:8080/",
          "height": 624
        },
        "id": "fAG1-_pHHd84",
        "outputId": "900451ea-80b0-4ef8-eb39-a5d55ebf5ab3"
      },
      "outputs": [],
      "source": [
        "# SVDの行列分解を用いたオリジナルデータの近似を可視化\n",
        "reconstruct(X, w=12,k=4)"
      ]
    },
    {
      "cell_type": "raw",
      "metadata": {
        "vscode": {
          "languageId": "raw"
        }
      },
      "source": [
        "### 課題2. 花粉症データを用いたSVD時系列解析\n",
        "\n",
        "kafunsho.csvデータを使用して、季節性パターンの特徴抽出と再構成を行います。\n",
        "既存の関数（delay_coordinates, my_svd, svd_decomp, reconstruct）を活用します。\n"
      ]
    },
    {
      "cell_type": "code",
      "execution_count": null,
      "metadata": {},
      "outputs": [],
      "source": [
        "# 花粉症データの読み込み\n",
        "fn_kafunsho = './data/kafunsho.csv'\n",
        "df_kafunsho = pd.read_csv(fn_kafunsho, header=2, index_col=0, parse_dates=True)\n",
        "\n",
        "print(\"データ情報:\")\n",
        "print(f\"形状: {df_kafunsho.shape}\")\n",
        "print(\"\\n最初の5行:\")\n",
        "print(df_kafunsho.head())\n",
        "\n",
        "# データの可視化\n",
        "plt.figure(figsize=(12, 4))\n",
        "df_kafunsho.plot(figsize=(12, 4), title='花粉症 Google Trends データ（週次）')\n",
        "plt.xlabel('日付')\n",
        "plt.ylabel('検索トレンド値')\n",
        "plt.grid(True, alpha=0.3)\n",
        "plt.show()\n",
        "\n",
        "# numpy配列に変換（既存の関数で使用するため）\n",
        "X_kafunsho = df_kafunsho.iloc[:, 0].to_numpy()\n",
        "print(f\"\\nnumpy配列変換: X_kafunsho.shape = {X_kafunsho.shape}\")\n",
        "print(f\"データ範囲: [{X_kafunsho.min()}, {X_kafunsho.max()}]\")\n"
      ]
    },
    {
      "cell_type": "code",
      "execution_count": null,
      "metadata": {},
      "outputs": [],
      "source": [
        "# ケース1: ウィンドウサイズ w=12 (3ヶ月) での特徴抽出\n",
        "print(\"=== ケース1: w=12 (3ヶ月) ===\")\n",
        "w1 = 12  # ウィンドウサイズ: 12週間 (約3ヶ月)\n",
        "k = 2    # 上位2成分を使用\n",
        "svd_decomp(X_kafunsho, w1, k, minus=False)\n"
      ]
    },
    {
      "cell_type": "code",
      "execution_count": null,
      "metadata": {},
      "outputs": [],
      "source": [
        "# ケース2: ウィンドウサイズ w=24 (半年) での特徴抽出\n",
        "print(\"=== ケース2: w=24 (半年) ===\")\n",
        "w2 = 24  # ウィンドウサイズ: 24週間 (約半年)\n",
        "k = 2    # 上位2成分を使用\n",
        "svd_decomp(X_kafunsho, w2, k, minus=False)\n"
      ]
    },
    {
      "cell_type": "code",
      "execution_count": null,
      "metadata": {},
      "outputs": [],
      "source": [
        "# w=12での再構成と元データとの比較\n",
        "print(\"=== w=12での再構成 ===\")\n",
        "reconstruct(X_kafunsho, w1, k)\n"
      ]
    },
    {
      "cell_type": "code",
      "execution_count": null,
      "metadata": {},
      "outputs": [],
      "source": [
        "# w=24での再構成と元データとの比較\n",
        "print(\"=== w=24での再構成 ===\")\n",
        "reconstruct(X_kafunsho, w2, k)\n"
      ]
    },
    {
      "cell_type": "code",
      "execution_count": null,
      "metadata": {},
      "outputs": [],
      "source": [
        "# 定量的比較: MSE計算とまとめ表示\n",
        "def calculate_mse(X_original, X_reconstructed):\n",
        "    \"\"\"再構成誤差（MSE）を計算\"\"\"\n",
        "    min_len = min(len(X_original), len(X_reconstructed))\n",
        "    return np.mean((X_original[:min_len] - X_reconstructed[:min_len])**2)\n",
        "\n",
        "# w=12とw=24のMSE比較\n",
        "print(\"=== 定量的比較結果 ===\")\n",
        "\n",
        "# w=12での再構成\n",
        "Xw1 = delay_coordinates(X_kafunsho, w1)\n",
        "(U1, s1, Vh1) = my_svd(Xw1, k)\n",
        "U1_k = U1[:, 0:k]; s1_k = s1[0:k]; Vh1_k = Vh1[0:k, :]\n",
        "Xw1_rec = np.dot(np.dot(U1_k, np.diag(s1_k)), Vh1_k)\n",
        "X1_rec = Xw1_rec.flatten()\n",
        "mse1 = calculate_mse(X_kafunsho, X1_rec)\n",
        "\n",
        "# w=24での再構成\n",
        "Xw2 = delay_coordinates(X_kafunsho, w2)\n",
        "(U2, s2, Vh2) = my_svd(Xw2, k)\n",
        "U2_k = U2[:, 0:k]; s2_k = s2[0:k]; Vh2_k = Vh2[0:k, :]\n",
        "Xw2_rec = np.dot(np.dot(U2_k, np.diag(s2_k)), Vh2_k)\n",
        "X2_rec = Xw2_rec.flatten()\n",
        "mse2 = calculate_mse(X_kafunsho, X2_rec)\n",
        "\n",
        "print(f\"w={w1}: 部分行列サイズ {Xw1.shape}, MSE = {mse1:.3f}\")\n",
        "print(f\"w={w2}: 部分行列サイズ {Xw2.shape}, MSE = {mse2:.3f}\")\n",
        "print(f\"MSE比較: w={w2}の方が {((mse1-mse2)/mse1*100):.1f}% {'良い' if mse2 < mse1 else '悪い'}\")\n"
      ]
    }
  ],
  "metadata": {
    "colab": {
      "provenance": []
    },
    "kernelspec": {
      "display_name": ".venv",
      "language": "python",
      "name": "python3"
    },
    "language_info": {
      "name": "python",
      "version": "3.13.3"
    }
  },
  "nbformat": 4,
  "nbformat_minor": 0
}
